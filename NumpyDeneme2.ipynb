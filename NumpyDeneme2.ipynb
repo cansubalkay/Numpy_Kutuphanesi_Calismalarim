{
  "metadata": {
    "kernelspec": {
      "name": "python",
      "display_name": "Python (Pyodide)",
      "language": "python"
    },
    "language_info": {
      "codemirror_mode": {
        "name": "python",
        "version": 3
      },
      "file_extension": ".py",
      "mimetype": "text/x-python",
      "name": "python",
      "nbconvert_exporter": "python",
      "pygments_lexer": "ipython3",
      "version": "3.8"
    }
  },
  "nbformat_minor": 4,
  "nbformat": 4,
  "cells": [
    {
      "cell_type": "code",
      "source": "#INDEXING/SLICING/BOOLEAN INDEXING\nimport numpy as np\na=np.array([[1,2],[3,4]])\nprint(a)\n# indeksleri iyice anlayabilmek iiçin birkaç örnek;\nb=a[0,1]\nprint(b)\n\nc=a[0,:]\nprint(c)\n\nd=a[:,:]\nprint(d)\n\ne=a[-1,-1]\nprint(e)",
      "metadata": {
        "trusted": true
      },
      "outputs": [
        {
          "name": "stdout",
          "text": "[[1 2]\n [3 4]]\n2\n[1 2]\n[[1 2]\n [3 4]]\n4\n",
          "output_type": "stream"
        }
      ],
      "execution_count": 8
    },
    {
      "cell_type": "code",
      "source": "#boolean işemleri\na1= np.array([[1,2],[3,4],[5,6]])\nbool_idx=a1<=2\nprint(bool_idx)\nbool_idx2= a1>2\nprint(a1[bool_idx2])",
      "metadata": {
        "trusted": true
      },
      "outputs": [
        {
          "name": "stdout",
          "text": "[[ True  True]\n [False False]\n [False False]]\n[3 4 5 6]\n",
          "output_type": "stream"
        }
      ],
      "execution_count": 13
    },
    {
      "cell_type": "code",
      "source": "#aşağıdaki satırlardaki where metodu ile nerede parantez içindeki durum sağlanmazsa oraya o durumdaki elemanlar yerine belirtilen elemanlar konur.\nb1= np.where(a1>2, a1,-1)\nprint(b1)\n#Burada 1 ve 2, 2 den büyük olmadıklarından parantez içinde belirtildiği gibi yerlerine -1 konur.",
      "metadata": {
        "trusted": true
      },
      "outputs": [
        {
          "name": "stdout",
          "text": "[[-1 -1]\n [ 3  4]\n [ 5  6]]\n",
          "output_type": "stream"
        }
      ],
      "execution_count": 15
    },
    {
      "cell_type": "code",
      "source": "#RESHAPING\n#arange ile belirlenen aralıklardaki sayılardan array oluşturulur.\n#reshape ile eleman sayısının uyumlu olma şartıyla array yeniden şekillendirilebilir.\na2= np.arange(1,7)\nprint(a2)\nprint(a2.shape)\nb2=a2.reshape((2,3))\nprint(b2)",
      "metadata": {
        "trusted": true
      },
      "outputs": [
        {
          "name": "stdout",
          "text": "[1 2 3 4 5 6]\n(6,)\n[[1 2 3]\n [4 5 6]]\n",
          "output_type": "stream"
        }
      ],
      "execution_count": 23
    },
    {
      "cell_type": "code",
      "source": "#CONCATENATION\n#iki arrayi birleştirmenin birkac yöntemi vardir. concatenate yöntemi;\na4=np.array([[1,2],[3,4]])\nprint(a4)\nb4=np.array([[5,6]])\nc4=np.concatenate((a4,b4))\nprint(c4)\n#axisle farklı şekilde de birleştirilebilir.*axis=eksen*\nc5=np.concatenate((a4,b4), axis=None)\nprint(c5)\n#hstack ile iki arrayi birleştirme;\na5=np.array([1,2,3,4])\nb5=np.array([5,6,7,8])\nc6=np.hstack((a5,b5))\nprint(c6)\n#vstack ile iki arrayi birleştirme;\nc7=np.vstack((a5,b5))\nprint(c7)",
      "metadata": {
        "trusted": true
      },
      "outputs": [
        {
          "name": "stdout",
          "text": "[[1 2]\n [3 4]]\n[[1 2]\n [3 4]\n [5 6]]\n[1 2 3 4 5 6]\n[1 2 3 4 5 6 7 8]\n[[1 2 3 4]\n [5 6 7 8]]\n",
          "output_type": "stream"
        }
      ],
      "execution_count": 32
    },
    {
      "cell_type": "code",
      "source": "#BROADCASTING\n#+ operstörü ile arrayler matematiksel olarak toplanabilir;\nx =np.array([[1,2,3],[4,5,6],[1,2,3], [4,5,6]])\na10 = np.array([1,0,1])\ny =x+a10\nprint(y)",
      "metadata": {
        "trusted": true
      },
      "outputs": [
        {
          "name": "stdout",
          "text": "[[2 2 4]\n [5 5 7]\n [2 2 4]\n [5 5 7]]\n",
          "output_type": "stream"
        }
      ],
      "execution_count": 33
    },
    {
      "cell_type": "code",
      "source": "",
      "metadata": {
        "trusted": true
      },
      "outputs": [],
      "execution_count": null
    },
    {
      "cell_type": "code",
      "source": "",
      "metadata": {
        "trusted": true
      },
      "outputs": [],
      "execution_count": null
    },
    {
      "cell_type": "code",
      "source": "",
      "metadata": {
        "trusted": true
      },
      "outputs": [],
      "execution_count": null
    }
  ]
}