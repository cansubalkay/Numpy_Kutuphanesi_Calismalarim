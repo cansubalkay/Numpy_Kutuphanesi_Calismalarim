{
  "metadata": {
    "kernelspec": {
      "name": "python",
      "display_name": "Python (Pyodide)",
      "language": "python"
    },
    "language_info": {
      "codemirror_mode": {
        "name": "python",
        "version": 3
      },
      "file_extension": ".py",
      "mimetype": "text/x-python",
      "name": "python",
      "nbconvert_exporter": "python",
      "pygments_lexer": "ipython3",
      "version": "3.8"
    }
  },
  "nbformat_minor": 4,
  "nbformat": 4,
  "cells": [
    {
      "cell_type": "code",
      "source": "#FUNCTIONS AND AXIS\n#sum fonksiyonu,toplanmış değerlerin toplamını döndüren bir Python fonksiyonudur.\nimport numpy as np\na= np.array([[7,8,9,10,11,12,13],[17,18,19,20,21,22,23]])\nprint(a)\n#aşağıdaki satırla hepsini toplar\nprint(a.sum())\nprint(a.sum(axis=None))\n#aşağıdaki satırla ayrı ayrı toplar.\nprint(a.sum(axis=1))\n#mean fonksiyonu ortalamayı bulur.\nprint(a.mean())\nprint(a.mean(axis=1))\n#std fonksiyonu veri grubunun, aritmetik ortalamaya göre standart sapmasını gösterir.\nprint(a.std())\nprint(a.min())\nprint(a.max())\n",
      "metadata": {
        "trusted": true
      },
      "outputs": [
        {
          "name": "stdout",
          "text": "[[ 7  8  9 10 11 12 13]\n [17 18 19 20 21 22 23]]\n210\n210\n[ 70 140]\n15.0\n[10. 20.]\n5.385164807134504\n7\n23\n",
          "output_type": "stream"
        }
      ],
      "execution_count": 9
    },
    {
      "cell_type": "code",
      "source": "#DATATYPES\n#verilerin veri tiplerrini görmek için .dtype kullanılır.\nx = np.array([1.0,2.0])\nprint(x.dtype)\n#veri tipi değiştirilebilir;\ny= np.array([1.0,2.0], dtype=np.int32)\nprint(y.dtype)",
      "metadata": {
        "trusted": true
      },
      "outputs": [
        {
          "name": "stdout",
          "text": "float64\nint32\n",
          "output_type": "stream"
        }
      ],
      "execution_count": 11
    },
    {
      "cell_type": "code",
      "source": "#COPYING\n#Eğer direkt arrayleri a=b şeklinde eşleştirirsek bdeki değişiklik a yı da değiştirir.\n#Ancak copy kullanırsak sonradan oluşturulan arrayde bir değişiklik oldugunda asıl array değişmez. \na1= np.array([1,2,3])\nb1=a1.copy()\nb1[0] =42\nprint (b1)\nprint(a1)\n#eğer copy yazmayıp direkt eşitleseydik a nın çıktısı da bniniki gibi olurdu",
      "metadata": {
        "trusted": true
      },
      "outputs": [
        {
          "name": "stdout",
          "text": "[42  2  3]\n[1 2 3]\n",
          "output_type": "stream"
        }
      ],
      "execution_count": 16
    },
    {
      "cell_type": "code",
      "source": "#GENERATING ARRAYS\n#zeros ones ve full ile istenilen bpyutlarda array oluşturulabilir;\na2= np.zeros((2,3))\nprint(a2)\n\na3=np.ones((2,3))\nprint(a3)\n\na4=np.full((2,3),5.0)\nprint(a4)",
      "metadata": {
        "trusted": true
      },
      "outputs": [
        {
          "name": "stdout",
          "text": "[[0. 0. 0.]\n [0. 0. 0.]]\n[[1. 1. 1.]\n [1. 1. 1.]]\n[[5. 5. 5.]\n [5. 5. 5.]]\n",
          "output_type": "stream"
        }
      ],
      "execution_count": 17
    },
    {
      "cell_type": "code",
      "source": "#eye metodu ile köşegenler ötelenebilir.\na5= np.eye(5,k=-1)\nprint(a5)\n#burada k ya -1 vererek bir satır geriye öteledim 3 olsaydı 3 satır ileri ötelenirdi.",
      "metadata": {
        "trusted": true
      },
      "outputs": [
        {
          "name": "stdout",
          "text": "[[0. 0. 0. 0. 0.]\n [1. 0. 0. 0. 0.]\n [0. 1. 0. 0. 0.]\n [0. 0. 1. 0. 0.]\n [0. 0. 0. 1. 0.]]\n",
          "output_type": "stream"
        }
      ],
      "execution_count": 22
    },
    {
      "cell_type": "code",
      "source": "#arange ile istenilen aralıkta array oluşturulabilir\na6=np.arange(20)\nprint(a6)",
      "metadata": {
        "trusted": true
      },
      "outputs": [
        {
          "name": "stdout",
          "text": "[ 0  1  2  3  4  5  6  7  8  9 10 11 12 13 14 15 16 17 18 19]\n",
          "output_type": "stream"
        }
      ],
      "execution_count": 24
    },
    {
      "cell_type": "code",
      "source": "#aşağıdaki satırla 0 ve 20 de dahil olmak üzere aralarındaki sayıyı eşit bölerek 10 elemanlı bir array oluşturdum\na7=np.linspace(0,20,10)\nprint(a7)",
      "metadata": {
        "trusted": true
      },
      "outputs": [
        {
          "name": "stdout",
          "text": "[ 0.          2.22222222  4.44444444  6.66666667  8.88888889 11.11111111\n 13.33333333 15.55555556 17.77777778 20.        ]\n",
          "output_type": "stream"
        }
      ],
      "execution_count": 25
    },
    {
      "cell_type": "code",
      "source": "",
      "metadata": {
        "trusted": true
      },
      "outputs": [],
      "execution_count": null
    }
  ]
}