{
  "metadata": {
    "kernelspec": {
      "name": "python",
      "display_name": "Python (Pyodide)",
      "language": "python"
    },
    "language_info": {
      "codemirror_mode": {
        "name": "python",
        "version": 3
      },
      "file_extension": ".py",
      "mimetype": "text/x-python",
      "name": "python",
      "nbconvert_exporter": "python",
      "pygments_lexer": "ipython3",
      "version": "3.8"
    }
  },
  "nbformat_minor": 5,
  "nbformat": 4,
  "cells": [
    {
      "id": "16528413-746e-44ca-a5a3-1dc9ba37c18d",
      "cell_type": "code",
      "source": "#INSTALLATION AND BASICS\nimport numpy as np\nsayilar=np.array([1,2,3,4,5])\nprint (sayilar)",
      "metadata": {
        "trusted": true
      },
      "outputs": [
        {
          "name": "stdout",
          "text": "[1 2 3 4 5]\n",
          "output_type": "stream"
        }
      ],
      "execution_count": 31
    },
    {
      "id": "f25c2a8d-740f-42de-a863-f1f6562acae3",
      "cell_type": "code",
      "source": "np.identity(5)",
      "metadata": {
        "trusted": true
      },
      "outputs": [
        {
          "execution_count": 4,
          "output_type": "execute_result",
          "data": {
            "text/plain": "array([[1., 0., 0., 0., 0.],\n       [0., 1., 0., 0., 0.],\n       [0., 0., 1., 0., 0.],\n       [0., 0., 0., 1., 0.],\n       [0., 0., 0., 0., 1.]])"
          },
          "metadata": {}
        }
      ],
      "execution_count": 4
    },
    {
      "id": "89725678-0a78-455a-9c2b-5e02f0ebd93b",
      "cell_type": "code",
      "source": "import numpy as np\na=np.array([[1,2,3],[4,5,6],[7,8,9]])\nprint(a)",
      "metadata": {
        "trusted": true
      },
      "outputs": [
        {
          "name": "stdout",
          "text": "[[1 2 3]\n [4 5 6]\n [7 8 9]]\n",
          "output_type": "stream"
        }
      ],
      "execution_count": 10
    },
    {
      "id": "0847b6fe-1911-4cf5-ac04-2b1fd2ce34ad",
      "cell_type": "code",
      "source": "print(a.shape)\n#şeklini verir\nprint(a.size)\n#eleman sayısını verir.\nprint(a.dtype)\n#veri tipini verir.\nprint(a.ndim)\n#kac boyutlu oldugunu gösterir.\nprint(a.itemsize)\nprint(a[1])\nprint(a[1,1])\nprint(a[:,2])\nprint(a[:,1]) \nprint(a[0:3,1])\n",
      "metadata": {
        "trusted": true
      },
      "outputs": [
        {
          "name": "stdout",
          "text": "(3, 3)\n9\nint32\n2\n4\n[4 5 6]\n5\n[3 6 9]\n[2 5 8]\n[2 5 8]\n",
          "output_type": "stream"
        }
      ],
      "execution_count": 23
    },
    {
      "id": "03064de3-2f32-4468-b08d-7cbf942f2e48",
      "cell_type": "code",
      "source": "b=a*np.array([2,0,2])\n#üstteki satırla anın her elemanı yeni arraydaki sayı ile çarpılıp b matrisini oluşturacaktır.\nprint(b)",
      "metadata": {
        "trusted": true
      },
      "outputs": [
        {
          "name": "stdout",
          "text": "[10  0 14]\n",
          "output_type": "stream"
        }
      ],
      "execution_count": 32
    },
    {
      "id": "29f7c957-7926-4741-a287-bea707706e18",
      "cell_type": "code",
      "source": "#ARRAY VS LIST\n#array ve list arasındaki farklar;\n#append ile listeye eleman eklenebillirken arraye eklenemez.\n#+ işaretiyle listeye eleman eklenebilirken arraye eklenemez.\nl=[1,2,3]\na=np.array([1,2,3])\nl= l+[4]\na= a+ np.array([4])\nprint(l)\nprint(a)",
      "metadata": {
        "trusted": true
      },
      "outputs": [
        {
          "name": "stdout",
          "text": "[1, 2, 3, 4]\n[5 6 7]\n",
          "output_type": "stream"
        }
      ],
      "execution_count": 30
    },
    {
      "id": "db84b41e-3691-485f-a358-5306e752cd21",
      "cell_type": "code",
      "source": "#ayrıca *2 işaretinde liste iki kere aynı şekilde yazılırken arraylerde elemanlar 2 ile çarpılır.\nl=l*2\nprint(l)\n\na=a*2\nprint(a)\n#aynı zamanda log,sqrt vb. matematiksel operatörler arraylerle kolaylıkla kullanılabilir.",
      "metadata": {
        "trusted": true
      },
      "outputs": [
        {
          "name": "stdout",
          "text": "[1, 2, 3, 4, 1, 2, 3, 4, 1, 2, 3, 4, 1, 2, 3, 4]\n[20 24 28]\n",
          "output_type": "stream"
        }
      ],
      "execution_count": 34
    },
    {
      "id": "193491fd-be4d-411b-b7e7-48564077987b",
      "cell_type": "code",
      "source": "#DOT PRODUCT\nl1=[1,2,3]\nl2=[4,5,6]\na1= np.array(l1)\na2=np.array(l2)\ndot=0\nfor i in range(len(l1)):\n    dot+=l1[i]* l2[i]\nprint(dot)\n#aşağıdaki 2 satır da aynı çıktıyı verecek. dot ile daha hızlı ve daha az satır kullanılabilir.\ndot= np.dot(a1,a2)\nprint(dot)\n#aşağıdaki 3 satır ile de aynı çıktıyı elde edebiliriz.\nsum1 =a1*a2\ndot =np.sum(sum1)\nprint(dot)\n#yine aşağıdaki satırlar ile de aynı çıktıyı elde edebilirz.\ndot= a1@ a2\nprint(dot)\n",
      "metadata": {
        "trusted": true
      },
      "outputs": [
        {
          "name": "stdout",
          "text": "32\n32\n32\n32\n",
          "output_type": "stream"
        }
      ],
      "execution_count": 38
    },
    {
      "id": "8f51fab7-05ff-458e-8bec-5db1cff65055",
      "cell_type": "code",
      "source": "#MULTIDIMENSIONAL(ND) ARRAYS \nimport numpy as np\na3=np.array([[1,2,6],[3,4,8]])\nprint(a3)\nprint(a3.shape)\n\nprint(a3[0][1])\nprint(a3[0,1])",
      "metadata": {
        "trusted": true
      },
      "outputs": [
        {
          "name": "stdout",
          "text": "[[1 2 6]\n [3 4 8]]\n(2, 3)\n2\n2\n",
          "output_type": "stream"
        }
      ],
      "execution_count": 43
    },
    {
      "id": "22d712ec-3a82-42c2-a050-58b33c755712",
      "cell_type": "code",
      "source": "# bazı parametrelerle arraylerin tersini çevirebilir, köşegenlerini yazdırabilir, determinantını hesaplayabiliriz.\nimport numpy as np\na4=np.array([[1,2],[3,4]])\nprint(a4)\nprint(np.linalg.inv(a4))\nprint(np.linalg.det(a4))\nprint(np.diag(a4))\nc=np.diag(a4)\nprint(c)",
      "metadata": {
        "trusted": true
      },
      "outputs": [
        {
          "name": "stdout",
          "text": "[[1 2]\n [3 4]]\n[[-2.   1. ]\n [ 1.5 -0.5]]\n-2.0000000000000004\n[1 4]\n[1 4]\n",
          "output_type": "stream"
        }
      ],
      "execution_count": 48
    },
    {
      "id": "18d96d31-bbe8-4326-9ca4-11d5fedab319",
      "cell_type": "code",
      "source": "",
      "metadata": {
        "trusted": true
      },
      "outputs": [],
      "execution_count": null
    }
  ]
}